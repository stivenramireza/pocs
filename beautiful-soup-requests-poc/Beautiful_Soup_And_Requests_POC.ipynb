{
 "cells": [
  {
   "cell_type": "code",
   "execution_count": 77,
   "metadata": {},
   "outputs": [],
   "source": [
    "import requests\n",
    "from bs4 import BeautifulSoup\n",
    "\n",
    "page = requests.get('https://www.fincaraiz.com.co/finca-raiz/arrendamientos/medellin/?ad=30|1||||2|||||55|5500006|||||||||||||||||||1||griddate%20desc||||||')\n",
    "soup = BeautifulSoup(page.content, 'html.parser')\n",
    "division = soup.find(id='divAdverts')\n",
    "properties_0 = division.find(id='rowIndex_0')\n"
   ]
  },
  {
   "cell_type": "code",
   "execution_count": 78,
   "metadata": {},
   "outputs": [
    {
     "name": "stdout",
     "output_type": "stream",
     "text": [
      "https://s3.amazonaws.com/imagenes.fincaraiz.com.co/FC_COL/2019/09/03/4887351/local-arriendo-antioquia-medellin-228356762_m.jpg\n"
     ]
    }
   ],
   "source": [
    "first_li = properties_0.find('li', class_=\"media\")\n",
    "image_property = first_li.find('meta').attrs.get('content')\n",
    "print(image_property)"
   ]
  },
  {
   "cell_type": "code",
   "execution_count": 79,
   "metadata": {},
   "outputs": [
    {
     "name": "stdout",
     "output_type": "stream",
     "text": [
      "<li class=\"title-grid\" onclick=\"javascript:window.location='/local-en-arriendo/medellin/1510_guayabal-det-4887351.aspx'\">\n",
      " <div class=\"ico-inmo\">\n",
      "  <div class=\"icoov\">\n",
      "  </div>\n",
      "  <div class=\"textinmov\">\n",
      "  </div>\n",
      " </div>\n",
      " <div class=\"span-title\" itemprop=\"name\">\n",
      "  <a href=\"/local-en-arriendo/medellin/1510_guayabal-det-4887351.aspx\" title=\"Local en Arriendo - Medellín 1510 GUAYABAL\">\n",
      "   <div>\n",
      "    <h2 class=\"h2-grid\">\n",
      "     Local en 1510 Guayabal\n",
      "    </h2>\n",
      "   </div>\n",
      "   <br/>\n",
      "   <div>\n",
      "    Medellín\n",
      "   </div>\n",
      "  </a>\n",
      " </div>\n",
      "</li>\n",
      "\n"
     ]
    }
   ],
   "source": [
    "second_li = properties_0.find('li', class_=\"title-grid\")\n",
    "print(second_li.prettify())"
   ]
  },
  {
   "cell_type": "code",
   "execution_count": null,
   "metadata": {},
   "outputs": [],
   "source": []
  }
 ],
 "metadata": {
  "kernelspec": {
   "display_name": "Python 3",
   "language": "python",
   "name": "python3"
  },
  "language_info": {
   "codemirror_mode": {
    "name": "ipython",
    "version": 3
   },
   "file_extension": ".py",
   "mimetype": "text/x-python",
   "name": "python",
   "nbconvert_exporter": "python",
   "pygments_lexer": "ipython3",
   "version": "3.6.9"
  }
 },
 "nbformat": 4,
 "nbformat_minor": 2
}
